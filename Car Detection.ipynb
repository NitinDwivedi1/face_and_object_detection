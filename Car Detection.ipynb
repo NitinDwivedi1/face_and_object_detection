{
 "cells": [
  {
   "cell_type": "code",
   "execution_count": 6,
   "id": "7a44bf8c",
   "metadata": {},
   "outputs": [],
   "source": [
    "import cv2\n",
    "import time"
   ]
  },
  {
   "cell_type": "code",
   "execution_count": 7,
   "id": "76765b9a",
   "metadata": {},
   "outputs": [],
   "source": [
    "car_classifier = cv2.CascadeClassifier('Haarcascades/haarcascade_car.xml')"
   ]
  },
  {
   "cell_type": "code",
   "execution_count": 8,
   "id": "c22ebfbe",
   "metadata": {},
   "outputs": [],
   "source": [
    "video_capture = cv2.VideoCapture('image_examples/cars.avi')"
   ]
  },
  {
   "cell_type": "code",
   "execution_count": 9,
   "id": "a58d8daa",
   "metadata": {},
   "outputs": [],
   "source": [
    "while video_capture.isOpened():\n",
    "    time.sleep(.05)\n",
    "    ret, frame = video_capture.read()\n",
    "    gray = cv2.cvtColor(frame, cv2.COLOR_BGR2GRAY)\n",
    "    cars = car_classifier.detectMultiScale(gray, 1.3, 3)\n",
    "    for(x, y, w, h) in cars:\n",
    "        cv2.rectangle(frame, (x, y), (x+w, y+h), (0, 255, 255), 2)\n",
    "        cv2.imshow('Pedestrian', frame)\n",
    "    if cv2.waitKey(1) & 0xFF == ord('q'):\n",
    "        break\n",
    "video_capture.release()\n",
    "cv2.destroyAllWindows()"
   ]
  },
  {
   "cell_type": "markdown",
   "id": "a98f4c96",
   "metadata": {},
   "source": []
  }
 ],
 "metadata": {
  "kernelspec": {
   "display_name": "Python 3 (ipykernel)",
   "language": "python",
   "name": "python3"
  },
  "language_info": {
   "codemirror_mode": {
    "name": "ipython",
    "version": 3
   },
   "file_extension": ".py",
   "mimetype": "text/x-python",
   "name": "python",
   "nbconvert_exporter": "python",
   "pygments_lexer": "ipython3",
   "version": "3.9.6"
  }
 },
 "nbformat": 4,
 "nbformat_minor": 5
}
